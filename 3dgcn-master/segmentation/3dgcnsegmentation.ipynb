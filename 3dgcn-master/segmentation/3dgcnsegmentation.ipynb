{
  "nbformat": 4,
  "nbformat_minor": 0,
  "metadata": {
    "colab": {
      "name": "3dgcnsegmentation.ipynb",
      "provenance": [],
      "machine_shape": "hm",
      "collapsed_sections": []
    },
    "kernelspec": {
      "name": "python3",
      "display_name": "Python 3"
    },
    "language_info": {
      "name": "python"
    },
    "accelerator": "GPU"
  },
  "cells": [
    {
      "cell_type": "markdown",
      "source": [
        "1.Change directory to this directory"
      ],
      "metadata": {
        "id": "Wz9u9B9I4xDc"
      }
    },
    {
      "cell_type": "markdown",
      "source": [
        "2.Download the data"
      ],
      "metadata": {
        "id": "-_7aF9e26fz0"
      }
    },
    {
      "cell_type": "code",
      "source": [
        "!bash download.sh"
      ],
      "metadata": {
        "id": "fSuqiTeH68bN"
      },
      "execution_count": null,
      "outputs": []
    },
    {
      "cell_type": "markdown",
      "source": [
        "3.Train the network. The model save in model.pkl"
      ],
      "metadata": {
        "id": "0w0ysrQ-5Bvs"
      }
    },
    {
      "cell_type": "code",
      "source": [
        "!bash train.sh"
      ],
      "metadata": {
        "id": "OEDvyVTd4_e0"
      },
      "execution_count": null,
      "outputs": []
    },
    {
      "cell_type": "markdown",
      "source": [
        "4.Test the network."
      ],
      "metadata": {
        "id": "U4xwETm_5JUr"
      }
    },
    {
      "cell_type": "code",
      "source": [
        "!bash test.sh"
      ],
      "metadata": {
        "id": "ws4eQrLx5QT9"
      },
      "execution_count": null,
      "outputs": []
    },
    {
      "cell_type": "markdown",
      "source": [
        "5.Training and testing the optimized model: change 'from model_gcn3d import GCN3D' into 'from model_gcn3d_optimized.py import' GCN3D"
      ],
      "metadata": {
        "id": "cdm-hfiW5ZeG"
      }
    },
    {
      "cell_type": "markdown",
      "source": [
        "6.Test K-means"
      ],
      "metadata": {
        "id": "pZG5rlhp6DLk"
      }
    },
    {
      "cell_type": "code",
      "source": [
        "!python kmean.py"
      ],
      "metadata": {
        "id": "EtoWxttB6CPV"
      },
      "execution_count": null,
      "outputs": []
    },
    {
      "cell_type": "markdown",
      "source": [
        "7.Test SVM"
      ],
      "metadata": {
        "id": "Jp1Nu6026OkM"
      }
    },
    {
      "cell_type": "code",
      "source": [
        "!python svm.py"
      ],
      "metadata": {
        "id": "Sf_jDSg36WT7"
      },
      "execution_count": null,
      "outputs": []
    }
  ]
}